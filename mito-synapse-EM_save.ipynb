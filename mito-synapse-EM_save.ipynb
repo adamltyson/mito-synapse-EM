{
 "cells": [
  {
   "cell_type": "markdown",
   "metadata": {},
   "source": [
    "# Analysis of synapse-mitochondria spatial relationships\n",
    "#### Adam Tyson | adam.tyson@icr.ac.uk | 2018-09-24"
   ]
  },
  {
   "cell_type": "markdown",
   "metadata": {},
   "source": [
    "#### Analyses all mitochondria together (i.e. its n x m where n=num synapses, and m=search intervals, not n x m x p where p=number of synapses).\n"
   ]
  },
  {
   "cell_type": "markdown",
   "metadata": {},
   "source": [
    "### Import modules"
   ]
  },
  {
   "cell_type": "code",
   "execution_count": 1,
   "metadata": {},
   "outputs": [],
   "source": [
    "from skimage import io\n",
    "import os\n",
    "import matplotlib\n",
    "import matplotlib.pyplot as plt\n",
    "import numpy as np\n",
    "from scipy import ndimage\n",
    "from scipy import spatial\n",
    "import math\n",
    "import skimage.morphology as morphology\n",
    "import skimage.measure as measure\n",
    "from skimage.color import label2rgb\n",
    "import skimage.filters as filters\n",
    "import ipywidgets as ipyw\n",
    "from collections import Counter\n",
    "import pandas as pd\n",
    "from IPython.display import display\n",
    "import seaborn as sns\n",
    "\n",
    "%matplotlib inline\n",
    "matplotlib.rcParams['figure.figsize'] = [18, 10]\n"
   ]
  },
  {
   "cell_type": "markdown",
   "metadata": {},
   "source": [
    "### Variables"
   ]
  },
  {
   "cell_type": "code",
   "execution_count": 2,
   "metadata": {},
   "outputs": [],
   "source": [
    "# voxel sizes in nm - anisotropy corrected for\n",
    "voxel_xy = 3\n",
    "voxel_z = 70\n",
    "p_norm = 2 # euclidian\n",
    "max_dist = 2000 # maximum distance to measure in nm\n",
    "dist_interval = 20 # how many steps in nm\n",
    "results_filename = \"synapse_results.csv\""
   ]
  },
  {
   "cell_type": "markdown",
   "metadata": {},
   "source": [
    "### 3D viewer class"
   ]
  },
  {
   "cell_type": "code",
   "execution_count": 3,
   "metadata": {},
   "outputs": [],
   "source": [
    "# Class from github.com/mohakpatel/ImageSliceViewer3D\n",
    "# to view 3D data slice by slice\n",
    "class ImageSliceViewer3D:\n",
    "    \"\"\" \n",
    "    ImageSliceViewer3D is for viewing volumetric image slices in jupyter or\n",
    "    ipython notebooks. \n",
    "    \n",
    "    User can interactively change the slice plane selection for the image and \n",
    "    the slice plane being viewed. \n",
    "\n",
    "    Arguments:\n",
    "    Volume = 3D input image\n",
    "    figsize = default(8,8), to set the size of the figure\n",
    "    cmap = default('plasma'), string for the matplotlib colormap. You can find \n",
    "    more matplotlib colormaps on the following link:\n",
    "    https://matplotlib.org/users/colormaps.html\n",
    "    \n",
    "    \"\"\"\n",
    "    \n",
    "    def __init__(self, volume, figsize=(8,8), cmap='plasma'):\n",
    "        self.volume = volume\n",
    "        self.figsize = figsize\n",
    "        self.cmap = \"Greys_r\"\n",
    "        self.v = [np.min(volume), np.max(volume)]\n",
    "        \n",
    "        # Call to select slice plane\n",
    "        ipyw.interact(self.view_selection, view=ipyw.RadioButtons(\n",
    "            options=['x-y','y-z', 'z-x'], value='x-y', \n",
    "            description='Slice plane selection:', disabled=False,\n",
    "            style={'description_width': 'initial'}))\n",
    "    \n",
    "    def view_selection(self, view):\n",
    "        # Transpose the volume to orient according to the slice plane selection\n",
    "        orient = {\"y-z\":[1,2,0], \"z-x\":[2,0,1], \"x-y\": [0,1,2]}\n",
    "        self.vol = np.transpose(self.volume, orient[view])\n",
    "        maxZ = self.vol.shape[2] - 1\n",
    "        \n",
    "        # Call to view a slice within the selected slice plane\n",
    "        ipyw.interact(self.plot_slice, \n",
    "            z=ipyw.IntSlider(min=0, max=maxZ, step=1, continuous_update=False, \n",
    "            description='Image Slice:'))\n",
    "        \n",
    "    def plot_slice(self, z):\n",
    "        # Plot slice for the given plane and slice\n",
    "        self.fig = plt.figure(figsize=self.figsize)\n",
    "        plt.imshow(self.vol[:,:,z], cmap=plt.get_cmap(self.cmap), \n",
    "            vmin=self.v[0], vmax=self.v[1])"
   ]
  },
  {
   "cell_type": "markdown",
   "metadata": {},
   "source": [
    "### Load and visualise raw data"
   ]
  },
  {
   "cell_type": "code",
   "execution_count": null,
   "metadata": {},
   "outputs": [
    {
     "name": "stdout",
     "output_type": "stream",
     "text": [
      "Image size:  (25, 1686, 2957)\n"
     ]
    },
    {
     "data": {
      "application/vnd.jupyter.widget-view+json": {
       "model_id": "c61fb55d65f04810b76cba5d5d6abdd2",
       "version_major": 2,
       "version_minor": 0
      },
      "text/plain": [
       "interactive(children=(RadioButtons(description='Slice plane selection:', options=('x-y', 'y-z', 'z-x'), style=…"
      ]
     },
     "metadata": {},
     "output_type": "display_data"
    },
    {
     "data": {
      "application/vnd.jupyter.widget-view+json": {
       "model_id": "29cf6dddac684a0c93dbe2fff359a275",
       "version_major": 2,
       "version_minor": 0
      },
      "text/plain": [
       "interactive(children=(RadioButtons(description='Slice plane selection:', options=('x-y', 'y-z', 'z-x'), style=…"
      ]
     },
     "metadata": {},
     "output_type": "display_data"
    },
    {
     "data": {
      "text/plain": [
       "<__main__.ImageSliceViewer3D at 0x11115af28>"
      ]
     },
     "execution_count": 4,
     "metadata": {},
     "output_type": "execute_result"
    }
   ],
   "source": [
    "# define paths to data \n",
    "# todo: move into loop\n",
    "path = \"/Users/adamtyson/Downloads/Test Mitochondria Volume relationship analysis\"\n",
    "synapse_file = \"Block-X-Synapses-w-mito.tif\"\n",
    "mito_file = \"Block-X-Presynaptic_Mitochondria.tif\"\n",
    "os.chdir(path)\n",
    "\n",
    "# load images and take first colour of RGB\n",
    "synapse_im = io.imread(synapse_file, plugin='pil')[:,:,:,0]\n",
    "mito_im = io.imread(mito_file, plugin='pil')[:,:,:,0]\n",
    "print(\"Image size: \", synapse_im.shape)\n",
    "\n",
    "ImageSliceViewer3D(synapse_im)\n",
    "ImageSliceViewer3D(mito_im)"
   ]
  },
  {
   "cell_type": "markdown",
   "metadata": {},
   "source": [
    "### Find synapse centres and make kdtree\n",
    "##### Doesn't really need to use kdtree (especially this implementation)"
   ]
  },
  {
   "cell_type": "code",
   "execution_count": null,
   "metadata": {},
   "outputs": [
    {
     "name": "stdout",
     "output_type": "stream",
     "text": [
      "Found 23 synapses\n"
     ]
    }
   ],
   "source": [
    "# prep images - single colours are (0, 179)\n",
    "synapse_labels = np.zeros(synapse_im.shape)\n",
    "synapse_labels[synapse_im!=np.max(synapse_im)] = 1\n",
    "\n",
    "synapse_labels = measure.label(synapse_labels)\n",
    "synapse_regions = measure.regionprops(synapse_labels)\n",
    "print(\"Found\", len(synapse_regions), \"synapses\")"
   ]
  },
  {
   "cell_type": "code",
   "execution_count": null,
   "metadata": {},
   "outputs": [],
   "source": [
    "synapse_z = []\n",
    "synapse_y = []\n",
    "synapse_x = []\n",
    "\n",
    "# get all synapse centroids\n",
    "for region in synapse_regions:\n",
    "    z, y, x = region.centroid\n",
    "    synapse_z.append(z)\n",
    "    synapse_y.append(y)\n",
    "    synapse_x.append(x)\n",
    "\n",
    "synapse_z = np.asarray(synapse_z) * voxel_z\n",
    "synapse_y = np.asarray(synapse_y) * voxel_xy       \n",
    "synapse_x = np.asarray(synapse_x) * voxel_xy        \n",
    "\n",
    "synapse_coords = np.vstack((synapse_z, synapse_y, synapse_x))\n",
    "synapse_coords = np.transpose(synapse_coords)\n",
    "\n",
    "# generate tree\n",
    "synapse_tree = spatial.KDTree(synapse_coords)"
   ]
  },
  {
   "cell_type": "markdown",
   "metadata": {},
   "source": [
    "### Make mitochdondria kdtree"
   ]
  },
  {
   "cell_type": "code",
   "execution_count": null,
   "metadata": {},
   "outputs": [],
   "source": [
    "# prep mitochondria coordinates\n",
    "mito_z, mito_y, mito_x = np.nonzero(mito_im > np.min(mito_im))\n",
    "mito_z = mito_z * voxel_z\n",
    "mito_y = mito_y * voxel_xy\n",
    "mito_x = mito_x * voxel_xy\n",
    "\n",
    "mito_coords = np.vstack((mito_z, mito_y, mito_x))\n",
    "mito_coords = np.transpose(mito_coords)\n",
    "\n",
    "# generate tree\n",
    "mito_tree = spatial.KDTree(mito_coords, leafsize=mito_coords.shape[0]+1)"
   ]
  },
  {
   "cell_type": "markdown",
   "metadata": {},
   "source": [
    "### Query the synapse tree against the mitochondria one"
   ]
  },
  {
   "cell_type": "code",
   "execution_count": null,
   "metadata": {},
   "outputs": [
    {
     "name": "stdout",
     "output_type": "stream",
     "text": [
      "Calculating volume at distance: 0\n",
      "Calculating volume at distance: 20\n",
      "Calculating volume at distance: 40\n",
      "Calculating volume at distance: 60\n",
      "Calculating volume at distance: 80\n",
      "Calculating volume at distance: 100\n",
      "Calculating volume at distance: 120\n",
      "Calculating volume at distance: 140\n",
      "Calculating volume at distance: 160\n",
      "Calculating volume at distance: 180\n",
      "Calculating volume at distance: 200\n",
      "Calculating volume at distance: 220\n",
      "Calculating volume at distance: 240\n",
      "Calculating volume at distance: 260\n",
      "Calculating volume at distance: 280\n",
      "Calculating volume at distance: 300\n",
      "Calculating volume at distance: 320\n",
      "Calculating volume at distance: 340\n",
      "Calculating volume at distance: 360\n",
      "Calculating volume at distance: 380\n",
      "Calculating volume at distance: 400\n",
      "Calculating volume at distance: 420\n",
      "Calculating volume at distance: 440\n",
      "Calculating volume at distance: 460\n",
      "Calculating volume at distance: 480\n",
      "Calculating volume at distance: 500\n",
      "Calculating volume at distance: 520\n",
      "Calculating volume at distance: 540\n",
      "Calculating volume at distance: 560\n",
      "Calculating volume at distance: 580\n",
      "Calculating volume at distance: 600\n",
      "Calculating volume at distance: 620\n",
      "Calculating volume at distance: 640\n",
      "Calculating volume at distance: 660\n",
      "Calculating volume at distance: 680\n",
      "Calculating volume at distance: 700\n",
      "Calculating volume at distance: 720\n",
      "Calculating volume at distance: 740\n",
      "Calculating volume at distance: 760\n",
      "Calculating volume at distance: 780\n",
      "Calculating volume at distance: 800\n",
      "Calculating volume at distance: 820\n",
      "Calculating volume at distance: 840\n",
      "Calculating volume at distance: 860\n",
      "Calculating volume at distance: 880\n",
      "Calculating volume at distance: 900\n",
      "Calculating volume at distance: 920\n",
      "Calculating volume at distance: 940\n",
      "Calculating volume at distance: 960\n",
      "Calculating volume at distance: 980\n",
      "Calculating volume at distance: 1000\n",
      "Calculating volume at distance: 1020\n",
      "Calculating volume at distance: 1040\n",
      "Calculating volume at distance: 1060\n",
      "Calculating volume at distance: 1080\n",
      "Calculating volume at distance: 1100\n",
      "Calculating volume at distance: 1120\n",
      "Calculating volume at distance: 1140\n",
      "Calculating volume at distance: 1160\n",
      "Calculating volume at distance: 1180\n",
      "Calculating volume at distance: 1200\n",
      "Calculating volume at distance: 1220\n",
      "Calculating volume at distance: 1240\n",
      "Calculating volume at distance: 1260\n",
      "Calculating volume at distance: 1280\n",
      "Calculating volume at distance: 1300\n",
      "Calculating volume at distance: 1320\n",
      "Calculating volume at distance: 1340\n",
      "Calculating volume at distance: 1360\n"
     ]
    }
   ],
   "source": [
    "synapses=np.arange(0, len(synapse_coords)) # same for all distances\n",
    "distances = np.arange(0, max_dist, dist_interval) # all distances to test\n",
    "\n",
    "# intialise\n",
    "synapses_array = []\n",
    "volumes_array = []\n",
    "distances_array = []\n",
    "\n",
    "# for each distance, query how many mitochondria voxels are within it, for each synapse\n",
    "for distance in distances:\n",
    "    print(\"Calculating volume at distance:\", distance)\n",
    "    tree_query = synapse_tree.query_ball_tree(mito_tree, distance, p=p_norm)\n",
    "    volumes = [len(synapse) for synapse in tree_query]\n",
    "    distances=np.ones((len(synapse_coords)))*distance\n",
    "    \n",
    "    # put them all in the same array\n",
    "    synapses_array = np.append(synapses_array, synapses)\n",
    "    volumes_array = np.append(volumes_array, volumes)\n",
    "    distances_array = np.append(distances_array, distances)\n",
    "\n",
    "\n"
   ]
  },
  {
   "cell_type": "markdown",
   "metadata": {},
   "source": [
    "### Plot"
   ]
  },
  {
   "cell_type": "code",
   "execution_count": null,
   "metadata": {},
   "outputs": [],
   "source": [
    "# make into pandas dataframe for convenience\n",
    "df_dict = {'Synapse':synapses_array,'Volume':volumes_array, 'Distance':distances_array}\n",
    "query_df = pd.DataFrame(df_dict)\n",
    "query_df.Volume = query_df.Volume*voxel_xy**3\n"
   ]
  },
  {
   "cell_type": "code",
   "execution_count": null,
   "metadata": {},
   "outputs": [],
   "source": [
    "# seaborn setup\n",
    "matplotlib.rcParams['figure.figsize'] = [18, 10]\n",
    "sns.set(font_scale=2, rc={\"lines.linewidth\": 5})\n",
    "palette = sns.color_palette(\"mako_r\", 2)"
   ]
  },
  {
   "cell_type": "code",
   "execution_count": null,
   "metadata": {},
   "outputs": [],
   "source": [
    "# plot individual synapses\n",
    "plt.figure()\n",
    "ax = sns.lineplot(x='Distance', y='Volume', data=query_df,\n",
    "                               units='Synapse', estimator=None, lw=1, palette=palette )\n",
    "ax.set(xlabel='Distance from synapse centroid (nm)',\n",
    "                    ylabel='Mitochondrial volume [nm^3]')\n",
    "handles, _ = ax.get_legend_handles_labels()\n",
    "ax.set_title('Mitochondria volume at a distance from synapse centroid')\n"
   ]
  },
  {
   "cell_type": "code",
   "execution_count": null,
   "metadata": {},
   "outputs": [],
   "source": [
    "# plot synapses together\n",
    "plt.figure()\n",
    "ax = sns.lineplot(x='Distance', y='Volume', data=query_df, ci='sd', palette=palette )\n",
    "ax.set(xlabel='Distance from synapse centroid (nm)',\n",
    "                    ylabel='Mitochondrial volume [nm^3]')\n",
    "handles, _ = ax.get_legend_handles_labels()\n",
    "ax.set_title('Mitochondria volume at a distance from synapse centroid (mean +/- SD)')\n"
   ]
  },
  {
   "cell_type": "code",
   "execution_count": null,
   "metadata": {},
   "outputs": [],
   "source": [
    "# convert to a \"wide\" format and save as .xls\n",
    "query_wide = query_df.pivot(index='Distance', columns='Synapse', values='Volume')\n",
    "query_wide.to_csv(results_filename)"
   ]
  }
 ],
 "metadata": {
  "kernelspec": {
   "display_name": "Python [default]",
   "language": "python",
   "name": "python3"
  },
  "language_info": {
   "codemirror_mode": {
    "name": "ipython",
    "version": 3
   },
   "file_extension": ".py",
   "mimetype": "text/x-python",
   "name": "python",
   "nbconvert_exporter": "python",
   "pygments_lexer": "ipython3",
   "version": "3.7.0"
  }
 },
 "nbformat": 4,
 "nbformat_minor": 2
}
