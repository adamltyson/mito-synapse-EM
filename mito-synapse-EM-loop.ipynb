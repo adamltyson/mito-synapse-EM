{
 "cells": [
  {
   "cell_type": "markdown",
   "metadata": {},
   "source": [
    "# Analysis of synapse-mitochondria spatial relationships\n",
    "#### Adam Tyson | adam.tyson@icr.ac.uk | 2018-10-15"
   ]
  },
  {
   "cell_type": "markdown",
   "metadata": {},
   "source": [
    "#### Analyses all mitochondria together (i.e. its n x m where n=num synapses, and m=search intervals, not n x m x p where p=number of synapses).\n"
   ]
  },
  {
   "cell_type": "markdown",
   "metadata": {},
   "source": [
    "### Import modules"
   ]
  },
  {
   "cell_type": "code",
   "execution_count": 1,
   "metadata": {},
   "outputs": [],
   "source": [
    "from skimage import io\n",
    "import os\n",
    "import glob\n",
    "import matplotlib\n",
    "import matplotlib.pyplot as plt\n",
    "import numpy as np\n",
    "from scipy import spatial\n",
    "import skimage.measure as measure\n",
    "import ipywidgets as ipyw\n",
    "import pandas as pd\n",
    "from IPython.display import display\n",
    "import seaborn as sns\n",
    "\n",
    "%matplotlib inline\n",
    "matplotlib.rcParams['figure.figsize'] = [18, 10]\n"
   ]
  },
  {
   "cell_type": "markdown",
   "metadata": {},
   "source": [
    "### Define data"
   ]
  },
  {
   "cell_type": "code",
   "execution_count": 8,
   "metadata": {},
   "outputs": [
    {
     "name": "stdout",
     "output_type": "stream",
     "text": [
      "Ctrl files found:  ['MitoCTRL1a.tif', 'MitoCTRL1b.tif', 'MitoCTRL2a.tif', 'MitoCTRL2b.tif', 'MitoCTRL3a.tif', 'MitoCTRL3b.tif']\n",
      "Dtg files found:  ['MitoDTG1a.tif', 'MitoDTG1b.tif', 'MitoDTG2a.tif', 'MitoDTG2b.tif', 'MitoDTG3a.tif', 'MitoDTG3b.tif']\n"
     ]
    }
   ],
   "source": [
    "path = \"F:\\mito-synapse-EM\\Mitochondria Volume relationship analysis\"\n",
    "ctrl_results_file = \"ctrl_results.csv\"\n",
    "dtg_results_file = \"dtg_results.csv\"\n",
    "os.chdir(path)\n",
    "mito_ctrl_files = glob.glob('MitoCTRL*.tif')\n",
    "mito_dtg_files = glob.glob('MitoDTG*.tif')\n",
    "\n",
    "print(\"Ctrl files found: \", mito_ctrl_files)\n",
    "print(\"Dtg files found: \", mito_dtg_files)"
   ]
  },
  {
   "cell_type": "markdown",
   "metadata": {},
   "source": [
    "### Variables"
   ]
  },
  {
   "cell_type": "code",
   "execution_count": 3,
   "metadata": {},
   "outputs": [],
   "source": [
    "# voxel sizes in nm - anisotropy corrected for\n",
    "class vars:\n",
    "    voxel_xy = 3\n",
    "    voxel_z = 70\n",
    "    p_norm = 2 # euclidian\n",
    "    max_dist = 500 # maximum distance to measure in nm\n",
    "    dist_interval = 50 # how many steps in nm\n"
   ]
  },
  {
   "cell_type": "code",
   "execution_count": 4,
   "metadata": {},
   "outputs": [],
   "source": [
    "class ImMito:\n",
    "    # todo: organise\n",
    "    def __init__(self, filenames, fileno, vars):\n",
    "        self.query_df = []\n",
    "        self.query_wide = []\n",
    "\n",
    "        # load data\n",
    "        mito_file = filenames[fileno]\n",
    "        synapse_file = mito_file.replace(\"Mito\", \"Synapse\")\n",
    "        print(\"Analysing file: \", mito_file)\n",
    "        synapse_im = io.imread(synapse_file, plugin='pil')[:,:,:,0]\n",
    "        mito_im = io.imread(mito_file, plugin='pil')[:,:,:,0]\n",
    "\n",
    "        ## Find synapse centres and make kdtree\n",
    "        ## Doesn't really need to use kdtree (especially this implementation)\n",
    "\n",
    "        # prep images - single colours are (0, 179)\n",
    "        synapse_labels = np.zeros(synapse_im.shape)\n",
    "        synapse_labels[synapse_im!=np.max(synapse_im)] = 1\n",
    "\n",
    "        synapse_labels = measure.label(synapse_labels)\n",
    "        synapse_regions = measure.regionprops(synapse_labels)\n",
    "        print(\"Found\", len(synapse_regions), \"synapses\")\n",
    "\n",
    "        \n",
    "        synapse_z = []\n",
    "        synapse_y = []\n",
    "        synapse_x = []\n",
    "\n",
    "        # get all synapse centroids\n",
    "        for region in synapse_regions:\n",
    "            z, y, x = region.centroid\n",
    "            synapse_z.append(z)\n",
    "            synapse_y.append(y)\n",
    "            synapse_x.append(x)\n",
    "\n",
    "        synapse_z = np.asarray(synapse_z) * vars.voxel_z\n",
    "        synapse_y = np.asarray(synapse_y) * vars.voxel_xy       \n",
    "        synapse_x = np.asarray(synapse_x) * vars.voxel_xy        \n",
    "\n",
    "        synapse_coords = np.vstack((synapse_z, synapse_y, synapse_x))\n",
    "        synapse_coords = np.transpose(synapse_coords)\n",
    "\n",
    "        # generate tree\n",
    "        synapse_tree = spatial.KDTree(synapse_coords)\n",
    "\n",
    "        # Make mitochdondria kdtree\n",
    "        mito_z, mito_y, mito_x = np.nonzero(mito_im > np.min(mito_im))\n",
    "        mito_z = mito_z * vars.voxel_z\n",
    "        mito_y = mito_y * vars.voxel_xy\n",
    "        mito_x = mito_x * vars.voxel_xy\n",
    "\n",
    "        mito_coords = np.vstack((mito_z, mito_y, mito_x))\n",
    "        mito_coords = np.transpose(mito_coords)\n",
    "\n",
    "        # generate tree\n",
    "        mito_tree = spatial.KDTree(mito_coords, leafsize=mito_coords.shape[0]+1)\n",
    "\n",
    "        # Query the synapse tree against the mitochondria one\n",
    "        synapses=np.arange(0, len(synapse_coords)) # same for all distances\n",
    "        distances = np.arange(0, vars.max_dist, vars.dist_interval) # all distances to test\n",
    "\n",
    "        # intialise\n",
    "        synapses_array = []\n",
    "        volumes_array = []\n",
    "        distances_array = []\n",
    "\n",
    "        # for each distance, query how many mitochondria voxels are within it, for each synapse\n",
    "        for distance in distances:\n",
    "            tree_query = synapse_tree.query_ball_tree(mito_tree, distance, p=vars.p_norm)\n",
    "            volumes = [len(synapse) for synapse in tree_query]\n",
    "            distances=np.ones((len(synapse_coords)))*distance\n",
    "\n",
    "            # put them all in the same array\n",
    "            synapses_array = np.append(synapses_array, synapses)\n",
    "            volumes_array = np.append(volumes_array, volumes)\n",
    "            distances_array = np.append(distances_array, distances)\n",
    "            \n",
    "        # make into pandas dataframe for convenience\n",
    "        df_dict = {'Synapse':synapses_array,'Volume':volumes_array, 'Distance':distances_array}\n",
    "        self.query_df = pd.DataFrame(df_dict)\n",
    "        self.query_df.Volume = self.query_df.Volume*vars.voxel_xy**3\n",
    "        \n",
    "        # convert to wide for xls export\n",
    "        self.query_wide = self.query_df.pivot(index='Synapse', columns='Distance', values='Volume')\n",
    "        self.query_wide.insert(0, \"Filename\", mito_file)\n"
   ]
  },
  {
   "cell_type": "code",
   "execution_count": 5,
   "metadata": {},
   "outputs": [
    {
     "name": "stdout",
     "output_type": "stream",
     "text": [
      "Analysing file:  MitoCTRL1a.tif\n",
      "Found 27 synapses\n",
      "Analysing file:  MitoCTRL1b.tif\n",
      "Found 24 synapses\n",
      "Analysing file:  MitoCTRL2a.tif\n",
      "Found 23 synapses\n",
      "Analysing file:  MitoCTRL2b.tif\n",
      "Found 33 synapses\n",
      "Analysing file:  MitoCTRL3a.tif\n",
      "Found 13 synapses\n",
      "Analysing file:  MitoCTRL3b.tif\n",
      "Found 17 synapses\n",
      "Analysing file:  MitoDTG1a.tif\n",
      "Found 29 synapses\n",
      "Analysing file:  MitoDTG1b.tif\n",
      "Found 23 synapses\n",
      "Analysing file:  MitoDTG2a.tif\n",
      "Found 17 synapses\n",
      "Analysing file:  MitoDTG2b.tif\n",
      "Found 21 synapses\n",
      "Analysing file:  MitoDTG3a.tif\n",
      "Found 26 synapses\n",
      "Analysing file:  MitoDTG3b.tif\n",
      "Found 30 synapses\n"
     ]
    }
   ],
   "source": [
    "ctrl_results = [ImMito(mito_ctrl_files, fileno, vars)\n",
    "          for fileno in range(0, len(mito_ctrl_files))]\n",
    "\n",
    "dtg_results = [ImMito(mito_dtg_files, fileno, vars)\n",
    "          for fileno in range(0, len(mito_dtg_files))]"
   ]
  },
  {
   "cell_type": "code",
   "execution_count": 9,
   "metadata": {},
   "outputs": [],
   "source": [
    "# Combine into a single dataframe and save\n",
    "ctrl_tmp = []\n",
    "dtg_tmp = []\n",
    "for image in ctrl_results:\n",
    "    ctrl_temp = ctrl_tmp.append(image.query_wide)\n",
    "ctrl_all = pd.concat(ctrl_tmp)\n",
    "\n",
    "for image in dtg_results:\n",
    "    dtg_temp = dtg_tmp.append(image.query_wide)\n",
    "dtg_all = pd.concat(dtg_tmp)\n",
    "\n",
    "ctrl_all.to_csv(ctrl_results_file)\n",
    "dtg_all.to_csv(dtg_results_file)"
   ]
  }
 ],
 "metadata": {
  "kernelspec": {
   "display_name": "Python [default]",
   "language": "python",
   "name": "python3"
  },
  "language_info": {
   "codemirror_mode": {
    "name": "ipython",
    "version": 3
   },
   "file_extension": ".py",
   "mimetype": "text/x-python",
   "name": "python",
   "nbconvert_exporter": "python",
   "pygments_lexer": "ipython3",
   "version": "3.6.6"
  }
 },
 "nbformat": 4,
 "nbformat_minor": 2
}
